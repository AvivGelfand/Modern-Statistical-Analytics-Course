{
  "nbformat": 4,
  "nbformat_minor": 0,
  "metadata": {
    "colab": {
      "provenance": [],
      "toc_visible": true,
      "authorship_tag": "ABX9TyPI0cOIlKdDZB+kCBxO72TV",
      "include_colab_link": true
    },
    "kernelspec": {
      "name": "python3",
      "display_name": "Python 3"
    },
    "language_info": {
      "name": "python"
    }
  },
  "cells": [
    {
      "cell_type": "markdown",
      "metadata": {
        "id": "view-in-github",
        "colab_type": "text"
      },
      "source": [
        "<a href=\"https://colab.research.google.com/github/AvivGelfand/Modern-Statistical-Strategies-Course/blob/main/Modern_Statistical_Data_Analysis_Ex2.ipynb\" target=\"_parent\"><img src=\"https://colab.research.google.com/assets/colab-badge.svg\" alt=\"Open In Colab\"/></a>"
      ]
    },
    {
      "cell_type": "markdown",
      "source": [
        "# Topics"
      ],
      "metadata": {
        "id": "GZhh5eJpCe11"
      }
    },
    {
      "cell_type": "markdown",
      "source": [
        "Based on the image, the topics covered in the exercise questions are:\n",
        "\n",
        "1. Multiple hypothesis testing\n",
        "  * Bonferroni correction\n",
        "  * Benjamini-Hochberg (BH) procedure\n",
        "  * False discovery rate (FDR)\n",
        "  * Positive/negative dependence between hypotheses\n",
        "  * Interpreting 2D diagrams of p-values\n",
        "\n",
        "\n",
        "2. Multiple hypothesis testing on real data\n",
        "  * Ranksum test for computing p-values\n",
        "  * Bonferroni correction\n",
        "  * Standard Benjamini-Hochberg (BH) procedure\n",
        "  * Adaptive BH procedure (adjusting based on estimate of m0)\n",
        "  * Visualizing sorted p-values and threshold lines\n",
        "\n",
        "\n",
        "\n",
        "The overarching theme seems to be methods and calculations related to multiple hypothesis testing, including corrections for multiplicity, estimating false discovery rates, and visualizing/interpreting results."
      ],
      "metadata": {
        "id": "y0bODgHhC-do"
      }
    },
    {
      "cell_type": "markdown",
      "source": [
        "Sure, I'd be happy to explain these topics in detail. Let's dive into each concept one by one.\n",
        "\n",
        "### 1. Multiple Hypothesis Testing\n",
        "\n",
        "In statistical analysis, multiple hypothesis testing refers to the process of simultaneously testing more than one hypothesis. When conducting multiple tests, the probability of making at least one Type I error (false positive) increases. This necessitates the use of corrections to control the overall error rate.\n",
        "\n",
        "#### Bonferroni Correction\n",
        "The Bonferroni correction is a simple and conservative method to control the family-wise error rate (FWER). It adjusts the significance level (α) by dividing it by the number of tests (m) being performed. If we have m hypotheses, we test each at the level of α/m.\n",
        "\n",
        "$$ \\text{Adjusted } \\alpha = \\frac{\\alpha}{m} $$\n",
        "\n",
        "For example, if you are conducting 10 tests and want a family-wise error rate of 0.05, each test should use a significance level of 0.005 (0.05/10).\n",
        "\n",
        "#### Benjamini-Hochberg (BH) Procedure\n",
        "The BH procedure is used to control the false discovery rate (FDR), which is the expected proportion of false positives among the rejected hypotheses. It is less conservative than the Bonferroni correction and is widely used in multiple testing scenarios.\n",
        "\n",
        "The steps of the BH procedure are as follows:\n",
        "1. Rank the p-values from all tests in ascending order: $ p_{(1)}, p_{(2)}, ..., p_{(m)} $.\n",
        "2. Calculate the critical value for each test: $ \\frac{i}{m} \\cdot \\alpha $, where $ i $ is the rank.\n",
        "3. Find the largest $ k $ such that $ p_{(k)} \\leq \\frac{k}{m} \\cdot \\alpha $.\n",
        "4. Reject all hypotheses with p-values $ \\leq p_{(k)} $.\n",
        "\n",
        "#### False Discovery Rate (FDR)\n",
        "FDR is the expected proportion of Type I errors (false discoveries) among the rejected hypotheses. Controlling the FDR allows more discoveries (true positives) compared to controlling the FWER. It is especially useful in large-scale testing situations, like genomics and brain imaging studies.\n",
        "\n",
        "#### Positive/Negative Dependence Between Hypotheses\n",
        "When hypotheses are positively dependent, rejecting one hypothesis increases the likelihood of rejecting another. Conversely, negative dependence means rejecting one hypothesis decreases the likelihood of rejecting another. The dependency structure can affect the performance of multiple testing procedures. Most procedures, like the BH procedure, assume independence or positive dependence among tests.\n",
        "\n",
        "#### Interpreting 2D Diagrams of p-values\n",
        "2D diagrams of p-values plot the sorted p-values against their rank or expected order under the null hypothesis. These plots help visualize the distribution of p-values and assess the performance of multiple testing corrections.\n",
        "\n",
        "### 2. Multiple Hypothesis Testing on Real Data\n",
        "\n",
        "To apply these concepts to real data, let's consider practical steps and methods.\n",
        "\n",
        "#### Ranksum Test for Computing P-values\n",
        "The ranksum test (Mann-Whitney U test) is a non-parametric test used to compare two independent samples. It computes p-values for testing the null hypothesis that the two samples come from the same distribution.\n",
        "\n",
        "#### Bonferroni Correction\n",
        "Apply the Bonferroni correction to the p-values obtained from multiple ranksum tests by adjusting the significance level to $ \\alpha/m $.\n",
        "\n",
        "#### Standard Benjamini-Hochberg (BH) Procedure\n",
        "Apply the BH procedure to control the FDR when analyzing multiple p-values. This involves ranking the p-values and finding the largest p-value that satisfies the BH criterion.\n",
        "\n",
        "#### Adaptive BH Procedure (Adjusting Based on Estimate of m0)\n",
        "The adaptive BH procedure adjusts the BH threshold based on an estimate of the number of true null hypotheses ($ m_0 $). This can lead to more powerful testing by allowing a higher threshold for rejecting hypotheses when $ m_0 $ is less than the total number of tests.\n",
        "\n",
        "#### Visualizing Sorted P-values and Threshold Lines\n",
        "To visualize the results, plot the sorted p-values along with the Bonferroni and BH threshold lines. This helps in understanding how many hypotheses are rejected under each correction method and the overall distribution of the p-values.\n",
        "\n",
        "### Example Workflow\n",
        "\n",
        "1. **Compute p-values**: Use the ranksum test to compute p-values for each hypothesis.\n",
        "2. **Apply Bonferroni Correction**: Adjust the significance level for each test using $ \\alpha/m $.\n",
        "3. **Apply Standard BH Procedure**: Rank the p-values and apply the BH criterion to find the rejection threshold.\n",
        "4. **Apply Adaptive BH Procedure**: Estimate $ m_0 $ and adjust the BH thresholds accordingly.\n",
        "5. **Visualize Results**: Plot the sorted p-values and overlay the Bonferroni and BH thresholds to visualize which hypotheses are rejected.\n",
        "\n",
        "### Visual Representation\n",
        "Here is an example of visualizing sorted p-values with threshold lines:\n"
      ],
      "metadata": {
        "id": "K-tQV5sWJxfb"
      }
    },
    {
      "cell_type": "markdown",
      "source": [
        "\n",
        "```python\n",
        "import numpy as np\n",
        "import matplotlib.pyplot as plt\n",
        "\n",
        "# Example data\n",
        "p_values = np.random.uniform(0, 1, 100)\n",
        "p_values.sort()\n",
        "\n",
        "# Bonferroni threshold\n",
        "alpha = 0.05\n",
        "bonferroni_threshold = alpha / len(p_values)\n",
        "\n",
        "# BH threshold\n",
        "m = len(p_values)\n",
        "bh_thresholds = [(i / m) * alpha for i in range(1, m + 1)]\n",
        "\n",
        "# Plotting\n",
        "plt.plot(p_values, label='P-values')\n",
        "plt.plot([bonferroni_threshold] * m, label='Bonferroni Threshold', linestyle='--')\n",
        "plt.plot(bh_thresholds, label='BH Threshold', linestyle='--')\n",
        "plt.xlabel('Sorted Hypothesis')\n",
        "plt.ylabel('P-value')\n",
        "plt.legend()\n",
        "plt.title('Sorted P-values with Bonferroni and BH Thresholds')\n",
        "plt.show()\n",
        "```\n"
      ],
      "metadata": {
        "id": "05LRiccZDkto"
      }
    },
    {
      "cell_type": "markdown",
      "source": [
        "\n",
        "This example plots the sorted p-values with horizontal lines representing the Bonferroni and BH thresholds. Hypotheses with p-values below these lines are rejected.\n",
        "\n",
        "By understanding and applying these methods, you can effectively manage the trade-off between discovery and error control in multiple hypothesis testing scenarios."
      ],
      "metadata": {
        "id": "dFX__mKkDmm-"
      }
    },
    {
      "cell_type": "markdown",
      "source": [
        "# 1. Multiple hypothesis testing\n"
      ],
      "metadata": {
        "id": "j8-6B9nyi82R"
      }
    },
    {
      "cell_type": "markdown",
      "source": [
        "![image.png](data:image/png;base64,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)"
      ],
      "metadata": {
        "id": "4FNy66NsB0Mx"
      }
    },
    {
      "cell_type": "markdown",
      "source": [
        "## 1. (a) Bonferroni correction VS. Benjamini-Hochberg (BH) Procedure\n"
      ],
      "metadata": {
        "id": "n0y_rtQDdSM8"
      }
    },
    {
      "cell_type": "markdown",
      "source": [
        "### Explanation and Approach\n"
      ],
      "metadata": {
        "id": "EWDf2UJJCBsY"
      }
    },
    {
      "cell_type": "markdown",
      "source": [
        "\n",
        "The question refers to a 2D diagram (Figure 1) which shows various regions based on two p-values $ p_1 $ and $ p_2 $. The rejection threshold for a single test is $ \\alpha $.\n",
        "\n",
        "The task is to determine the number of hypotheses (0, 1, or 2) that will be rejected in each of the regions (1, 2, 3, and 4) when using the Bonferroni correction and the Benjamini-Hochberg (BH) procedure.\n"
      ],
      "metadata": {
        "id": "9SPh6FWyCEqD"
      }
    },
    {
      "cell_type": "markdown",
      "source": [
        "\n",
        "**Bonferroni Correction**:\n",
        "The Bonferroni correction adjusts the significance level to control the family-wise error rate (FWER). For two hypotheses, the Bonferroni correction sets the significance level to $ \\frac{\\alpha}{2} $ for each hypothesis. Thus, we reject $ H_0 $ if:\n",
        "$$ p_1 \\leq \\frac{\\alpha}{2} \\quad \\text{or} \\quad p_2 \\leq \\frac{\\alpha}{2} $$\n",
        "\n",
        "**Benjamini-Hochberg (BH) Procedure**:\n",
        "The BH procedure controls the false discovery rate (FDR). For two hypotheses, sort the p-values $ p_{(1)} $ and $ p_{(2)} $. Define the critical value as:\n",
        "$$ p_{(i)} \\leq \\frac{i}{2} \\alpha \\quad \\text{for} \\quad i = 1, 2 $$\n",
        "\n",
        "### Solution\n",
        "\n",
        "Let's analyze the rejection criteria for each region.\n",
        "\n",
        "1. **Region 1**: $ p_1 \\leq \\frac{\\alpha}{2} $ and $ p_2 \\leq \\frac{\\alpha}{2} $\n",
        "2. **Region 2**: $ p_1 \\leq \\frac{\\alpha}{2} $ and $ \\frac{\\alpha}{2} < p_2 \\leq \\alpha $\n",
        "3. **Region 3**: $ \\frac{\\alpha}{2} < p_1 \\leq \\alpha $ and $ \\frac{\\alpha}{2} < p_2 \\leq \\alpha $\n",
        "4. **Region 4**: $ \\frac{\\alpha}{2} < p_1 \\leq \\alpha $ and $ p_2 \\leq \\frac{\\alpha}{2} $\n",
        "\n",
        "#### Bonferroni Correction:\n",
        "\n",
        "- **Region 1**: Both $ p_1 $ and $ p_2 $ are less than or equal to $ \\frac{\\alpha}{2} $. Therefore, both hypotheses are rejected.\n",
        "- **Region 2**: $ p_1 $ is less than or equal to $ \\frac{\\alpha}{2} $, but $ p_2 $ is greater than $ \\frac{\\alpha}{2} $. Only $ p_1 $ is rejected.\n",
        "- **Region 3**: Both $ p_1 $ and $ p_2 $ are greater than $ \\frac{\\alpha}{2} $. Neither hypothesis is rejected.\n",
        "- **Region 4**: $ p_2 $ is less than or equal to $ \\frac{\\alpha}{2} $, but $ p_1 $ is greater than $ \\frac{\\alpha}{2} $. Only $ p_2 $ is rejected.\n"
      ],
      "metadata": {
        "id": "WrGujx_MCF2d"
      }
    },
    {
      "cell_type": "markdown",
      "source": [
        "\n",
        "#### BH Procedure:\n",
        "\n",
        "- **Region 1**: Both $ p_1 $ and $ p_2 $ are less than or equal to $ \\frac{\\alpha}{2} $. Both hypotheses are rejected.\n",
        "- **Region 2**: $ p_1 $ is less than or equal to $ \\frac{\\alpha}{2} $, which meets the BH criterion for $ p_{(1)} $. Only $ p_1 $ is rejected.\n",
        "- **Region 3**: Both $ p_1 $ and $ p_2 $ are greater than $ \\frac{\\alpha}{2} $. Neither hypothesis is rejected.\n",
        "- **Region 4**: $ p_2 $ is less than or equal to $ \\frac{\\alpha}{2} $, which meets the BH criterion for $ p_{(1)} $. Only $ p_2 $ is rejected.\n"
      ],
      "metadata": {
        "id": "u46wxlM1CKFb"
      }
    },
    {
      "cell_type": "markdown",
      "source": [
        "\n",
        "### Summary of Rejected Hypotheses\n",
        "\n",
        "| Region | Bonferroni (Rejections) | BH Procedure (Rejections) |\n",
        "|--------|--------------------------|----------------------------|\n",
        "| 1      | Both ($H_1, H_2$)      | Both ($H_1, H_2$)        |\n",
        "| 2      | $H_1$                  | $H_1$                    |\n",
        "| 3      | None                     | None                       |\n",
        "| 4      | $H_2$                  | $H_2$                    |\n",
        "\n",
        "By breaking it down like this, we can clearly see how the Bonferroni and BH procedures affect the rejection of hypotheses based on the regions in the p-value diagram."
      ],
      "metadata": {
        "id": "6yOYAps1CI1S"
      }
    },
    {
      "cell_type": "markdown",
      "source": [
        "## 1. (b)  False discovery rate (FDR)"
      ],
      "metadata": {
        "id": "nEenTwV0edtq"
      }
    },
    {
      "cell_type": "markdown",
      "source": [
        "### Explanation and Approach\n"
      ],
      "metadata": {
        "id": "GmdbqbNPEDWX"
      }
    },
    {
      "cell_type": "markdown",
      "source": [
        "\n",
        "The question asks to compute the False Discovery Rate (FDR) for both the Bonferroni and Benjamini-Hochberg (BH) procedures, given that the null hypothesis is true for both tests and they are independent.\n",
        "\n",
        "**False Discovery Rate (FDR)**:\n",
        "The FDR is the expected proportion of false positives (incorrectly rejected null hypotheses) among all rejections. If no hypothesis is rejected, the FDR is set to 0.\n"
      ],
      "metadata": {
        "id": "Mywf8EoLFSTh"
      }
    },
    {
      "cell_type": "markdown",
      "source": [
        "\n",
        "### Formal Solution\n"
      ],
      "metadata": {
        "id": "8_QFsfVnELKb"
      }
    },
    {
      "cell_type": "markdown",
      "source": [
        "\n",
        "### Bonferroni Correction\n"
      ],
      "metadata": {
        "id": "lawiEel4HGV3"
      }
    },
    {
      "cell_type": "markdown",
      "source": [
        "\n",
        "For the Bonferroni correction, we reject if:\n",
        "$$ p_1 \\leq \\frac{\\alpha}{2} \\quad \\text{or} \\quad p_2 \\leq \\frac{\\alpha}{2} $$\n",
        "\n",
        "**Rejection Region**:\n",
        "The area of the rejection zone for a single test is $ \\frac{\\alpha}{2} $. Since we have two tests and they are independent, the rejection region can be calculated as:\n",
        "$$ \\text{Rejection Region} = 1 - (1 - \\frac{\\alpha}{2})^2 $$\n",
        "\n",
        "Expanding and simplifying:\n",
        "$$ \\text{Rejection Region} = 1 - (1 - \\alpha + \\frac{\\alpha^2}{4}) = \\alpha - \\frac{\\alpha^2}{4} $$\n",
        "\n",
        "**False Discovery Rate (FDR)**:\n",
        "Given that both null hypotheses are true:\n",
        "$$ \\text{FDR} = \\text{Rejection Region} = \\alpha - \\frac{\\alpha^2}{4} $$\n"
      ],
      "metadata": {
        "id": "esPd5qeyH8Q8"
      }
    },
    {
      "cell_type": "markdown",
      "source": [
        "\n",
        "### Benjamini-Hochberg (BH) Procedure\n"
      ],
      "metadata": {
        "id": "VjA15kOQH6Gr"
      }
    },
    {
      "cell_type": "markdown",
      "source": [
        "\n",
        "For the BH procedure, the critical values are:\n",
        "$$ p_{(1)} \\leq \\frac{\\alpha}{2} $$\n",
        "$$ p_{(2)} \\leq \\alpha $$\n",
        "\n",
        "**Rejection Region**:\n",
        "We calculate the rejection region similarly, but we add the smaller probability of rejecting both hypotheses:\n",
        "$$ \\text{Rejection Region} = 1 - (1 - \\frac{\\alpha}{2})^2 + \\left(\\frac{\\alpha}{2}\\right)^2 $$\n",
        "\n",
        "Expanding and simplifying:\n",
        "$$ \\text{Rejection Region} = 1 - (1 - \\alpha + \\frac{\\alpha^2}{4}) + \\frac{\\alpha^2}{4} = \\alpha $$\n",
        "\n",
        "So, both the Bonferroni and BH FDR results can be summarized as:\n",
        "\n",
        "- **Bonferroni Correction**:\n",
        "  $$ \\text{FDR} = \\alpha - \\frac{\\alpha^2}{4} $$\n",
        "\n",
        "- **Benjamini-Hochberg (BH) Procedure**:\n",
        "  $$ \\text{FDR} = \\alpha $$\n"
      ],
      "metadata": {
        "id": "qWsBvr6mH98S"
      }
    },
    {
      "cell_type": "markdown",
      "source": [
        "## 1. (c)  dependence between $ p_1 $ and $ p_2 $ and FDR"
      ],
      "metadata": {
        "id": "DZUlhwBKIk0Q"
      }
    },
    {
      "cell_type": "markdown",
      "source": [
        "\n",
        "This question explores the impact of dependence between $ p_1 $ and $ p_2 $ on the False Discovery Rate (FDR). When $ p_1 $ and $ p_2 $ are dependent, their combined rejection region can be affected, potentially leading to a higher FDR.\n"
      ],
      "metadata": {
        "id": "xPebP5UPInjg"
      }
    },
    {
      "cell_type": "markdown",
      "source": [
        "\n",
        "### Approach\n"
      ],
      "metadata": {
        "id": "PyYwTDDhJXWt"
      }
    },
    {
      "cell_type": "markdown",
      "source": [
        "\n",
        "**Understanding Dependence Impact**:\n",
        "1. **Positive Dependence**:\n",
        "   - If $ p_1 $ and $ p_2 $ are positively correlated, they are likely to be significant together. The FDR can increase because the probability of both being significant can be higher than expected by chance alone.\n",
        "   - However, because both null hypotheses are true, rejecting one implies rejecting the other, which means more false discoveries can occur simultaneously, potentially reaching an FDR of 1.\n",
        "\n",
        "2. **Negative Dependence**:\n",
        "   - With negative dependence, if one p-value is low (indicating significance), the other is likely high (indicating non-significance). This can lead to a scenario where rejecting one hypothesis happens more frequently than under independence.\n",
        "   - The highest FDR (close to 1) occurs because we might reject one hypothesis almost always when the other is non-significant, which matches your friend’s argument.\n"
      ],
      "metadata": {
        "id": "IS51xzOmJWJ6"
      }
    },
    {
      "cell_type": "markdown",
      "source": [
        "\n",
        "### Formal Solution\n"
      ],
      "metadata": {
        "id": "08VVJNtHJZ3E"
      }
    },
    {
      "cell_type": "markdown",
      "source": [
        "Given the null hypotheses are true and the p-values might be dependent:\n",
        "\n",
        "- **Positive Dependence**:\n",
        "  - Under perfect positive dependence ($ \\rho = 1 $), if we reject one, we reject both, resulting in FDR = 1.\n",
        "  - As the dependence decreases, the FDR might be less than 1 but still can be higher than $\\alpha$.\n",
        "\n",
        "- **Negative Dependence**:\n",
        "  - Under perfect negative dependence ($ \\rho = -1 $), if one p-value is significant, the other is not, leading to frequent single rejections.\n",
        "  - This scenario maximizes the false discovery rate since rejecting one null hypothesis increases the likelihood of a false discovery when the other p-value is not significant.\n"
      ],
      "metadata": {
        "id": "mSbzPW9UKPg0"
      }
    },
    {
      "cell_type": "markdown",
      "source": [
        "# Q2. Multiple Hypothesis Testing on Car Insurance Offer Data"
      ],
      "metadata": {
        "id": "BHu1bAeXMOje"
      }
    },
    {
      "cell_type": "markdown",
      "source": [
        "\n",
        "The file `car.csv` contains 85 parameters on 5745 individuals (salary, variables related to locations, etc.) and a binary variable indicating whether or not they received an offer for car insurance. Our goal is to test, for each of the 85 variables, if it is significant for determining the outcome.\n",
        "\n",
        "- For each variable, use the ranksum test to compute a p-value. Generate a histogram of the p-values.\n",
        "- How many hypotheses were rejected when applying: (i) Bonferroni correction, (ii) Standard BH, (iii) Adaptive BH (adjusting $\\alpha$ according to an estimate of $ \\hat{m_0} $).\n",
        "- Plot the sorted p-values. Mark by a horizontal line the location of the threshold computed by the three methods."
      ],
      "metadata": {
        "id": "6_QRIMuIMqqR"
      }
    },
    {
      "cell_type": "markdown",
      "source": [
        "### import libs"
      ],
      "metadata": {
        "id": "oLKCvAkvTbkp"
      }
    },
    {
      "cell_type": "code",
      "execution_count": 45,
      "metadata": {
        "colab": {
          "base_uri": "https://localhost:8080/"
        },
        "id": "PEFfvaZoPEWu",
        "outputId": "3805590d-326b-4a79-90ad-f9af55c6790d"
      },
      "outputs": [
        {
          "output_type": "execute_result",
          "data": {
            "text/plain": [
              "Index(['MOSTYPE', 'MAANTHUI', 'MGEMOMV', 'MGEMLEEF', 'MOSHOOFD', 'MGODRK',\n",
              "       'MGODPR', 'MGODOV', 'MGODGE', 'MRELGE', 'MRELSA', 'MRELOV', 'MFALLEEN',\n",
              "       'MFGEKIND', 'MFWEKIND', 'MOPLHOOG', 'MOPLMIDD', 'MOPLLAAG', 'MBERHOOG',\n",
              "       'MBERZELF', 'MBERBOER', 'MBERMIDD', 'MBERARBG', 'MBERARBO', 'MSKA',\n",
              "       'MSKB1', 'MSKB2', 'MSKC', 'MSKD', 'MHHUUR', 'MHKOOP', 'MAUT1', 'MAUT2',\n",
              "       'MAUT0', 'MZFONDS', 'MZPART', 'MINKM30', 'MINK3045', 'MINK4575',\n",
              "       'MINK7512', 'MINK123M', 'MINKGEM', 'MKOOPKLA', 'PWAPART', 'PWABEDR',\n",
              "       'PWALAND', 'PPERSAUT', 'PBESAUT', 'PMOTSCO', 'PVRAAUT', 'PAANHANG',\n",
              "       'PTRACTOR', 'PWERKT', 'PBROM', 'PLEVEN', 'PPERSONG', 'PGEZONG',\n",
              "       'PWAOREG', 'PBRAND', 'PZEILPL', 'PPLEZIER', 'PFIETS', 'PINBOED',\n",
              "       'PBYSTAND', 'AWAPART', 'AWABEDR', 'AWALAND', 'APERSAUT', 'ABESAUT',\n",
              "       'AMOTSCO', 'AVRAAUT', 'AAANHANG', 'ATRACTOR', 'AWERKT', 'ABROM',\n",
              "       'ALEVEN', 'APERSONG', 'AGEZONG', 'AWAOREG', 'ABRAND', 'AZEILPL',\n",
              "       'APLEZIER', 'AFIETS', 'AINBOED', 'ABYSTAND', 'Purchase'],\n",
              "      dtype='object')"
            ]
          },
          "metadata": {},
          "execution_count": 45
        }
      ],
      "source": [
        "import pandas as pd\n",
        "from scipy.stats import ranksums\n",
        "import matplotlib.pyplot as plt\n",
        "import numpy as np\n",
        "import statsmodels.stats.multitest as multitest\n",
        "\n",
        "df = pd.read_csv('/content/car.csv').drop(columns=['Unnamed: 0'])\n",
        "df.columns"
      ]
    },
    {
      "cell_type": "code",
      "source": [
        "import seaborn as sns\n",
        "sns.set(font_scale=1.2)\n",
        "sns.set_style(\"whitegrid\")"
      ],
      "metadata": {
        "id": "L2wqdCKLRP7d"
      },
      "execution_count": 46,
      "outputs": []
    },
    {
      "cell_type": "code",
      "source": [
        "# df.info()\n",
        "df.head(2)"
      ],
      "metadata": {
        "colab": {
          "base_uri": "https://localhost:8080/",
          "height": 161
        },
        "id": "HVg8i3yeOEUp",
        "outputId": "83097b06-63eb-4b4a-9b9d-c64a9138e166"
      },
      "execution_count": 47,
      "outputs": [
        {
          "output_type": "execute_result",
          "data": {
            "text/plain": [
              "   MOSTYPE  MAANTHUI  MGEMOMV  MGEMLEEF  MOSHOOFD  MGODRK  MGODPR  MGODOV  \\\n",
              "0       33         1        3         2         8       0       5       1   \n",
              "1       37         1        2         2         8       1       4       1   \n",
              "\n",
              "   MGODGE  MRELGE  ...  APERSONG  AGEZONG  AWAOREG  ABRAND  AZEILPL  APLEZIER  \\\n",
              "0       3       7  ...         0        0        0       1        0         0   \n",
              "1       4       6  ...         0        0        0       1        0         0   \n",
              "\n",
              "   AFIETS  AINBOED  ABYSTAND  Purchase  \n",
              "0       0        0         0        No  \n",
              "1       0        0         0        No  \n",
              "\n",
              "[2 rows x 86 columns]"
            ],
            "text/html": [
              "\n",
              "  <div id=\"df-019e0cb2-7721-4246-91fc-3c1f960279e8\" class=\"colab-df-container\">\n",
              "    <div>\n",
              "<style scoped>\n",
              "    .dataframe tbody tr th:only-of-type {\n",
              "        vertical-align: middle;\n",
              "    }\n",
              "\n",
              "    .dataframe tbody tr th {\n",
              "        vertical-align: top;\n",
              "    }\n",
              "\n",
              "    .dataframe thead th {\n",
              "        text-align: right;\n",
              "    }\n",
              "</style>\n",
              "<table border=\"1\" class=\"dataframe\">\n",
              "  <thead>\n",
              "    <tr style=\"text-align: right;\">\n",
              "      <th></th>\n",
              "      <th>MOSTYPE</th>\n",
              "      <th>MAANTHUI</th>\n",
              "      <th>MGEMOMV</th>\n",
              "      <th>MGEMLEEF</th>\n",
              "      <th>MOSHOOFD</th>\n",
              "      <th>MGODRK</th>\n",
              "      <th>MGODPR</th>\n",
              "      <th>MGODOV</th>\n",
              "      <th>MGODGE</th>\n",
              "      <th>MRELGE</th>\n",
              "      <th>...</th>\n",
              "      <th>APERSONG</th>\n",
              "      <th>AGEZONG</th>\n",
              "      <th>AWAOREG</th>\n",
              "      <th>ABRAND</th>\n",
              "      <th>AZEILPL</th>\n",
              "      <th>APLEZIER</th>\n",
              "      <th>AFIETS</th>\n",
              "      <th>AINBOED</th>\n",
              "      <th>ABYSTAND</th>\n",
              "      <th>Purchase</th>\n",
              "    </tr>\n",
              "  </thead>\n",
              "  <tbody>\n",
              "    <tr>\n",
              "      <th>0</th>\n",
              "      <td>33</td>\n",
              "      <td>1</td>\n",
              "      <td>3</td>\n",
              "      <td>2</td>\n",
              "      <td>8</td>\n",
              "      <td>0</td>\n",
              "      <td>5</td>\n",
              "      <td>1</td>\n",
              "      <td>3</td>\n",
              "      <td>7</td>\n",
              "      <td>...</td>\n",
              "      <td>0</td>\n",
              "      <td>0</td>\n",
              "      <td>0</td>\n",
              "      <td>1</td>\n",
              "      <td>0</td>\n",
              "      <td>0</td>\n",
              "      <td>0</td>\n",
              "      <td>0</td>\n",
              "      <td>0</td>\n",
              "      <td>No</td>\n",
              "    </tr>\n",
              "    <tr>\n",
              "      <th>1</th>\n",
              "      <td>37</td>\n",
              "      <td>1</td>\n",
              "      <td>2</td>\n",
              "      <td>2</td>\n",
              "      <td>8</td>\n",
              "      <td>1</td>\n",
              "      <td>4</td>\n",
              "      <td>1</td>\n",
              "      <td>4</td>\n",
              "      <td>6</td>\n",
              "      <td>...</td>\n",
              "      <td>0</td>\n",
              "      <td>0</td>\n",
              "      <td>0</td>\n",
              "      <td>1</td>\n",
              "      <td>0</td>\n",
              "      <td>0</td>\n",
              "      <td>0</td>\n",
              "      <td>0</td>\n",
              "      <td>0</td>\n",
              "      <td>No</td>\n",
              "    </tr>\n",
              "  </tbody>\n",
              "</table>\n",
              "<p>2 rows × 86 columns</p>\n",
              "</div>\n",
              "    <div class=\"colab-df-buttons\">\n",
              "\n",
              "  <div class=\"colab-df-container\">\n",
              "    <button class=\"colab-df-convert\" onclick=\"convertToInteractive('df-019e0cb2-7721-4246-91fc-3c1f960279e8')\"\n",
              "            title=\"Convert this dataframe to an interactive table.\"\n",
              "            style=\"display:none;\">\n",
              "\n",
              "  <svg xmlns=\"http://www.w3.org/2000/svg\" height=\"24px\" viewBox=\"0 -960 960 960\">\n",
              "    <path d=\"M120-120v-720h720v720H120Zm60-500h600v-160H180v160Zm220 220h160v-160H400v160Zm0 220h160v-160H400v160ZM180-400h160v-160H180v160Zm440 0h160v-160H620v160ZM180-180h160v-160H180v160Zm440 0h160v-160H620v160Z\"/>\n",
              "  </svg>\n",
              "    </button>\n",
              "\n",
              "  <style>\n",
              "    .colab-df-container {\n",
              "      display:flex;\n",
              "      gap: 12px;\n",
              "    }\n",
              "\n",
              "    .colab-df-convert {\n",
              "      background-color: #E8F0FE;\n",
              "      border: none;\n",
              "      border-radius: 50%;\n",
              "      cursor: pointer;\n",
              "      display: none;\n",
              "      fill: #1967D2;\n",
              "      height: 32px;\n",
              "      padding: 0 0 0 0;\n",
              "      width: 32px;\n",
              "    }\n",
              "\n",
              "    .colab-df-convert:hover {\n",
              "      background-color: #E2EBFA;\n",
              "      box-shadow: 0px 1px 2px rgba(60, 64, 67, 0.3), 0px 1px 3px 1px rgba(60, 64, 67, 0.15);\n",
              "      fill: #174EA6;\n",
              "    }\n",
              "\n",
              "    .colab-df-buttons div {\n",
              "      margin-bottom: 4px;\n",
              "    }\n",
              "\n",
              "    [theme=dark] .colab-df-convert {\n",
              "      background-color: #3B4455;\n",
              "      fill: #D2E3FC;\n",
              "    }\n",
              "\n",
              "    [theme=dark] .colab-df-convert:hover {\n",
              "      background-color: #434B5C;\n",
              "      box-shadow: 0px 1px 3px 1px rgba(0, 0, 0, 0.15);\n",
              "      filter: drop-shadow(0px 1px 2px rgba(0, 0, 0, 0.3));\n",
              "      fill: #FFFFFF;\n",
              "    }\n",
              "  </style>\n",
              "\n",
              "    <script>\n",
              "      const buttonEl =\n",
              "        document.querySelector('#df-019e0cb2-7721-4246-91fc-3c1f960279e8 button.colab-df-convert');\n",
              "      buttonEl.style.display =\n",
              "        google.colab.kernel.accessAllowed ? 'block' : 'none';\n",
              "\n",
              "      async function convertToInteractive(key) {\n",
              "        const element = document.querySelector('#df-019e0cb2-7721-4246-91fc-3c1f960279e8');\n",
              "        const dataTable =\n",
              "          await google.colab.kernel.invokeFunction('convertToInteractive',\n",
              "                                                    [key], {});\n",
              "        if (!dataTable) return;\n",
              "\n",
              "        const docLinkHtml = 'Like what you see? Visit the ' +\n",
              "          '<a target=\"_blank\" href=https://colab.research.google.com/notebooks/data_table.ipynb>data table notebook</a>'\n",
              "          + ' to learn more about interactive tables.';\n",
              "        element.innerHTML = '';\n",
              "        dataTable['output_type'] = 'display_data';\n",
              "        await google.colab.output.renderOutput(dataTable, element);\n",
              "        const docLink = document.createElement('div');\n",
              "        docLink.innerHTML = docLinkHtml;\n",
              "        element.appendChild(docLink);\n",
              "      }\n",
              "    </script>\n",
              "  </div>\n",
              "\n",
              "\n",
              "<div id=\"df-798af421-394d-4d75-aef1-22107602a0d5\">\n",
              "  <button class=\"colab-df-quickchart\" onclick=\"quickchart('df-798af421-394d-4d75-aef1-22107602a0d5')\"\n",
              "            title=\"Suggest charts\"\n",
              "            style=\"display:none;\">\n",
              "\n",
              "<svg xmlns=\"http://www.w3.org/2000/svg\" height=\"24px\"viewBox=\"0 0 24 24\"\n",
              "     width=\"24px\">\n",
              "    <g>\n",
              "        <path d=\"M19 3H5c-1.1 0-2 .9-2 2v14c0 1.1.9 2 2 2h14c1.1 0 2-.9 2-2V5c0-1.1-.9-2-2-2zM9 17H7v-7h2v7zm4 0h-2V7h2v10zm4 0h-2v-4h2v4z\"/>\n",
              "    </g>\n",
              "</svg>\n",
              "  </button>\n",
              "\n",
              "<style>\n",
              "  .colab-df-quickchart {\n",
              "      --bg-color: #E8F0FE;\n",
              "      --fill-color: #1967D2;\n",
              "      --hover-bg-color: #E2EBFA;\n",
              "      --hover-fill-color: #174EA6;\n",
              "      --disabled-fill-color: #AAA;\n",
              "      --disabled-bg-color: #DDD;\n",
              "  }\n",
              "\n",
              "  [theme=dark] .colab-df-quickchart {\n",
              "      --bg-color: #3B4455;\n",
              "      --fill-color: #D2E3FC;\n",
              "      --hover-bg-color: #434B5C;\n",
              "      --hover-fill-color: #FFFFFF;\n",
              "      --disabled-bg-color: #3B4455;\n",
              "      --disabled-fill-color: #666;\n",
              "  }\n",
              "\n",
              "  .colab-df-quickchart {\n",
              "    background-color: var(--bg-color);\n",
              "    border: none;\n",
              "    border-radius: 50%;\n",
              "    cursor: pointer;\n",
              "    display: none;\n",
              "    fill: var(--fill-color);\n",
              "    height: 32px;\n",
              "    padding: 0;\n",
              "    width: 32px;\n",
              "  }\n",
              "\n",
              "  .colab-df-quickchart:hover {\n",
              "    background-color: var(--hover-bg-color);\n",
              "    box-shadow: 0 1px 2px rgba(60, 64, 67, 0.3), 0 1px 3px 1px rgba(60, 64, 67, 0.15);\n",
              "    fill: var(--button-hover-fill-color);\n",
              "  }\n",
              "\n",
              "  .colab-df-quickchart-complete:disabled,\n",
              "  .colab-df-quickchart-complete:disabled:hover {\n",
              "    background-color: var(--disabled-bg-color);\n",
              "    fill: var(--disabled-fill-color);\n",
              "    box-shadow: none;\n",
              "  }\n",
              "\n",
              "  .colab-df-spinner {\n",
              "    border: 2px solid var(--fill-color);\n",
              "    border-color: transparent;\n",
              "    border-bottom-color: var(--fill-color);\n",
              "    animation:\n",
              "      spin 1s steps(1) infinite;\n",
              "  }\n",
              "\n",
              "  @keyframes spin {\n",
              "    0% {\n",
              "      border-color: transparent;\n",
              "      border-bottom-color: var(--fill-color);\n",
              "      border-left-color: var(--fill-color);\n",
              "    }\n",
              "    20% {\n",
              "      border-color: transparent;\n",
              "      border-left-color: var(--fill-color);\n",
              "      border-top-color: var(--fill-color);\n",
              "    }\n",
              "    30% {\n",
              "      border-color: transparent;\n",
              "      border-left-color: var(--fill-color);\n",
              "      border-top-color: var(--fill-color);\n",
              "      border-right-color: var(--fill-color);\n",
              "    }\n",
              "    40% {\n",
              "      border-color: transparent;\n",
              "      border-right-color: var(--fill-color);\n",
              "      border-top-color: var(--fill-color);\n",
              "    }\n",
              "    60% {\n",
              "      border-color: transparent;\n",
              "      border-right-color: var(--fill-color);\n",
              "    }\n",
              "    80% {\n",
              "      border-color: transparent;\n",
              "      border-right-color: var(--fill-color);\n",
              "      border-bottom-color: var(--fill-color);\n",
              "    }\n",
              "    90% {\n",
              "      border-color: transparent;\n",
              "      border-bottom-color: var(--fill-color);\n",
              "    }\n",
              "  }\n",
              "</style>\n",
              "\n",
              "  <script>\n",
              "    async function quickchart(key) {\n",
              "      const quickchartButtonEl =\n",
              "        document.querySelector('#' + key + ' button');\n",
              "      quickchartButtonEl.disabled = true;  // To prevent multiple clicks.\n",
              "      quickchartButtonEl.classList.add('colab-df-spinner');\n",
              "      try {\n",
              "        const charts = await google.colab.kernel.invokeFunction(\n",
              "            'suggestCharts', [key], {});\n",
              "      } catch (error) {\n",
              "        console.error('Error during call to suggestCharts:', error);\n",
              "      }\n",
              "      quickchartButtonEl.classList.remove('colab-df-spinner');\n",
              "      quickchartButtonEl.classList.add('colab-df-quickchart-complete');\n",
              "    }\n",
              "    (() => {\n",
              "      let quickchartButtonEl =\n",
              "        document.querySelector('#df-798af421-394d-4d75-aef1-22107602a0d5 button');\n",
              "      quickchartButtonEl.style.display =\n",
              "        google.colab.kernel.accessAllowed ? 'block' : 'none';\n",
              "    })();\n",
              "  </script>\n",
              "</div>\n",
              "\n",
              "    </div>\n",
              "  </div>\n"
            ],
            "application/vnd.google.colaboratory.intrinsic+json": {
              "type": "dataframe",
              "variable_name": "df"
            }
          },
          "metadata": {},
          "execution_count": 47
        }
      ]
    },
    {
      "cell_type": "markdown",
      "source": [
        "## 2. (a) Ranksum Test P-values and Histogram Generation"
      ],
      "metadata": {
        "id": "KGd7JqEMWg7Y"
      }
    },
    {
      "cell_type": "code",
      "source": [
        "X = df.drop(columns=['Purchase']) # features\n",
        "y = df['Purchase'] # target label\n",
        "\n",
        "\n",
        "# Step 3: Compute p-values using the ranksum test\n",
        "p_values = []\n",
        "for column in X.columns:\n",
        "    group1 = X[y == \"No\"][column]\n",
        "    group2 = X[y == \"Yes\"][column]\n",
        "    stat, p_value = ranksums(group1, group2)\n",
        "    p_values.append(p_value)\n",
        "\n",
        "# Step 4: Generate histogram of p-values\n",
        "plt.hist(p_values, bins=50, edgecolor='k', alpha=0.7)\n",
        "plt.xlabel('P-value')\n",
        "plt.ylabel('Frequency')\n",
        "plt.title('Histogram of P-values from Ranksum Test')\n",
        "plt.show()"
      ],
      "metadata": {
        "colab": {
          "base_uri": "https://localhost:8080/",
          "height": 499
        },
        "id": "oQ2RfvaSXZMc",
        "outputId": "aa103024-c4dc-40a4-c97b-8b620f6100b4"
      },
      "execution_count": 48,
      "outputs": [
        {
          "output_type": "display_data",
          "data": {
            "text/plain": [
              "<Figure size 1100x800 with 1 Axes>"
            ],
            "image/png": "[encoded data removed]"
          },
          "metadata": {}
        }
      ]
    },
    {
      "cell_type": "markdown",
      "source": [
        "## 2. (b) Number of Rejected Hypotheses Using Bonferroni, Standard BH, and Adaptive BH Corrections"
      ],
      "metadata": {
        "id": "YD6ff8C6cqeI"
      }
    },
    {
      "cell_type": "code",
      "source": [
        "\n",
        "# Convert to numpy array\n",
        "p_values = np.array(p_values)\n",
        "\n",
        "# (i) Bonferroni correction\n",
        "bonferroni_rejections = multitest.multipletests(p_values, alpha=0.05, method='bonferroni')[0]\n",
        "\n",
        "# (ii) Standard BH procedure\n",
        "bh_rejections = multitest.multipletests(p_values, alpha=0.05, method='fdr_bh')[0]\n",
        "\n",
        "# (iii) Adaptive BH procedure\n",
        "# Estimate m0 (number of true null hypotheses)\n",
        "m = len(p_values)\n",
        "pi_0 = np.mean(p_values > 0.5) / 0.5\n",
        "m_0 = pi_0 * m\n",
        "alpha_adj = 0.05 * m / m_0\n",
        "adaptive_bh_rejections = multitest.multipletests(p_values, alpha=alpha_adj, method='fdr_bh')[0]\n",
        "\n",
        "# Print the number of rejections\n",
        "print(f\"Number of hypotheses rejected (Bonferroni): {np.sum(bonferroni_rejections)}\")\n",
        "print(f\"Number of hypotheses rejected (Standard BH): {np.sum(bh_rejections)}\")\n",
        "print(f\"Number of hypotheses rejected (Adaptive BH): {np.sum(adaptive_bh_rejections)}\")\n"
      ],
      "metadata": {
        "colab": {
          "base_uri": "https://localhost:8080/"
        },
        "id": "siD3AoM3TNiw",
        "outputId": "b831b61a-c84c-4795-e418-63c3f09d6516"
      },
      "execution_count": 49,
      "outputs": [
        {
          "output_type": "stream",
          "name": "stdout",
          "text": [
            "Number of hypotheses rejected (Bonferroni): 30\n",
            "Number of hypotheses rejected (Standard BH): 36\n",
            "Number of hypotheses rejected (Adaptive BH): 37\n"
          ]
        }
      ]
    },
    {
      "cell_type": "markdown",
      "source": [
        "## 2. (c) Sorted P-values with Rejection Thresholds from Bonferroni, Standard BH, and Adaptive BH Corrections"
      ],
      "metadata": {
        "id": "B9F0drDkW5zk"
      }
    },
    {
      "cell_type": "code",
      "source": [
        "\n",
        "# Plot the sorted p-values with the rejection thresholds\n",
        "sorted_p_values = np.sort(p_values)\n",
        "bonferroni_threshold = 0.05 / m\n",
        "bh_threshold = 0.05\n",
        "\n",
        "# Colors for each threshold\n",
        "colors = np.where(sorted_p_values <= bonferroni_threshold, 'r',\n",
        "                  np.where(sorted_p_values <= bh_threshold, 'g',\n",
        "                           np.where(sorted_p_values <= alpha_adj, 'b', 'k')))\n",
        "\n",
        "plt.scatter(range(len(sorted_p_values)), sorted_p_values, c=colors, s=10)  # Smaller points with colors\n",
        "plt.axhline(y=bonferroni_threshold, color='r', linestyle='--', label='Bonferroni threshold')\n",
        "plt.axhline(y=bh_threshold, color='g', linestyle='--', label='BH threshold')\n",
        "plt.axhline(y=alpha_adj, color='b', linestyle='--', label='Adaptive BH threshold')\n",
        "plt.xlabel('Sorted Hypotheses')\n",
        "plt.ylabel('P-value')\n",
        "plt.legend()\n",
        "plt.title('Sorted P-values with Rejection Thresholds')\n",
        "plt.show()"
      ],
      "metadata": {
        "colab": {
          "base_uri": "https://localhost:8080/",
          "height": 496
        },
        "id": "nQ2PAvJuW3dc",
        "outputId": "aba0d204-65a3-41ca-ce85-4f30007bdd80"
      },
      "execution_count": 52,
      "outputs": [
        {
          "output_type": "display_data",
          "data": {
            "text/plain": [
              "<Figure size 1100x800 with 1 Axes>"
            ],
            "image/png": "[encoded data removed]"
          },
          "metadata": {}
        }
      ]
    },
    {
      "cell_type": "code",
      "source": [],
      "metadata": {
        "id": "WDg35Q6hXSq9"
      },
      "execution_count": null,
      "outputs": []
    }
  ]
}